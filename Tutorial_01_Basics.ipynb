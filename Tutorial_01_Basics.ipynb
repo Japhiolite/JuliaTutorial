{
 "cells": [
  {
   "cell_type": "markdown",
   "metadata": {
    "collapsed": true
   },
   "source": [
    "# Basic Julia Tutorial"
   ]
  },
  {
   "cell_type": "markdown",
   "metadata": {},
   "source": [
    "# Running/Installing Julia\n",
    "\n",
    "This is a notebook. To run in you need Julia and jupyter or nteract (see below).\n",
    "\n",
    "1. To run Julia without a local installation, use (for instance) [CoCalc](https://cocalc.com).\n",
    "\n",
    "2. To install Julia (plus an editor and key packages) on your machine, download and install [JuliaPro](https://juliacomputing.com/products/juliapro.html). \n",
    "\n",
    "3. Alternatively, to manage your own installtion [download and install Julia](https://julialang.org/downloads/). You may also want to use the Atom editor with the [Juno IDE](http://junolab.org/) or [VS Code](https://github.com/julia-vscode/julia-vscode). To run IJulia with either jupyter or nteract from your local installation, see [IJulia](https://github.com/JuliaLang/IJulia.jl) for instructions."
   ]
  },
  {
   "cell_type": "markdown",
   "metadata": {},
   "source": [
    "# Documentation and Help\n",
    "\n",
    "1.  Cheat sheet at [QuantEcon](https://cheatsheets.quantecon.org/julia-cheatsheet.html)\n",
    "2.  [Wiki book](https://en.wikibooks.org/wiki/Introducing_Julia)\n",
    "3.  [Short tutorials](https://techytok.com/from-zero-to-julia/) \n",
    "4.  [ThinkJulia](https://benlauwens.github.io/ThinkJulia.jl/latest/book.html) is a free on-line book\n",
    "5.  The [official Julia on-line manual](https://docs.julialang.org)\n",
    "6.  Discussion lists are found at\n",
    "    *  https://discourse.julialang.org/\n",
    "    *  https://stackoverflow.com/questions/tagged/julia-lang\n",
    "    *  https://www.reddit.com/r/Julia/\n",
    "    *  https://gitter.im/JuliaLang/julia\n",
    "7. In Julia, do ```? cos``` to get help with the cos function    "
   ]
  },
  {
   "cell_type": "markdown",
   "metadata": {},
   "source": [
    "# About Notebooks\n",
    "\n",
    "This cell is a \"Markdown\" cell. This is meant for comments and documentation, not computations.\n",
    "\n",
    "You can change a cell to \"Code\" or \"Markdown\" in the menu.\n",
    "\n",
    "Markdown cells can handle LaTeX. An example: $\\alpha = \\beta/2$. A Markdown cell can also contain some *formatting*, like lists of this kind\n",
    "\n",
    "1. To insert a new cell, use the menu. \n",
    "\n",
    "2. The next cell is \"Code\". You can run it. Text after a # sign is treated as a comment.\n",
    "\n",
    "3. The subsequent cell shows how to get help on a command."
   ]
  },
  {
   "cell_type": "code",
   "execution_count": 1,
   "metadata": {},
   "outputs": [
    {
     "data": {
      "text/plain": [
       "2"
      ]
     },
     "execution_count": 1,
     "metadata": {},
     "output_type": "execute_result"
    }
   ],
   "source": [
    "a = 2                  #this is a comment\n",
    "                       #run this cell by using the menu, or by Shift+Enter"
   ]
  },
  {
   "cell_type": "code",
   "execution_count": 2,
   "metadata": {},
   "outputs": [
    {
     "name": "stdout",
     "output_type": "stream",
     "text": [
      "search: \u001b[0m\u001b[1mc\u001b[22m\u001b[0m\u001b[1mo\u001b[22m\u001b[0m\u001b[1ms\u001b[22m \u001b[0m\u001b[1mc\u001b[22m\u001b[0m\u001b[1mo\u001b[22m\u001b[0m\u001b[1ms\u001b[22mh \u001b[0m\u001b[1mc\u001b[22m\u001b[0m\u001b[1mo\u001b[22m\u001b[0m\u001b[1ms\u001b[22md \u001b[0m\u001b[1mc\u001b[22m\u001b[0m\u001b[1mo\u001b[22m\u001b[0m\u001b[1ms\u001b[22mc \u001b[0m\u001b[1mc\u001b[22m\u001b[0m\u001b[1mo\u001b[22m\u001b[0m\u001b[1ms\u001b[22mpi a\u001b[0m\u001b[1mc\u001b[22m\u001b[0m\u001b[1mo\u001b[22m\u001b[0m\u001b[1ms\u001b[22m a\u001b[0m\u001b[1mc\u001b[22m\u001b[0m\u001b[1mo\u001b[22m\u001b[0m\u001b[1ms\u001b[22mh a\u001b[0m\u001b[1mc\u001b[22m\u001b[0m\u001b[1mo\u001b[22m\u001b[0m\u001b[1ms\u001b[22md sin\u001b[0m\u001b[1mc\u001b[22m\u001b[0m\u001b[1mo\u001b[22m\u001b[0m\u001b[1ms\u001b[22m sin\u001b[0m\u001b[1mc\u001b[22m\u001b[0m\u001b[1mo\u001b[22m\u001b[0m\u001b[1ms\u001b[22md sin\u001b[0m\u001b[1mc\u001b[22m\u001b[0m\u001b[1mo\u001b[22m\u001b[0m\u001b[1ms\u001b[22mpi \u001b[0m\u001b[1mc\u001b[22m\u001b[0m\u001b[1mo\u001b[22mn\u001b[0m\u001b[1ms\u001b[22mt\n",
      "\n"
     ]
    },
    {
     "data": {
      "text/latex": [
       "\\begin{verbatim}\n",
       "cos(x)\n",
       "\\end{verbatim}\n",
       "Compute cosine of \\texttt{x}, where \\texttt{x} is in radians.\n",
       "\n",
       "\\rule{\\textwidth}{1pt}\n",
       "\\begin{verbatim}\n",
       "cos(A::AbstractMatrix)\n",
       "\\end{verbatim}\n",
       "Compute the matrix cosine of a square matrix \\texttt{A}.\n",
       "\n",
       "If \\texttt{A} is symmetric or Hermitian, its eigendecomposition (\\href{@ref}{\\texttt{eigen}}) is used to compute the cosine. Otherwise, the cosine is determined by calling \\href{@ref}{\\texttt{exp}}.\n",
       "\n",
       "\\section{Examples}\n",
       "\\begin{verbatim}\n",
       "julia> cos(fill(1.0, (2,2)))\n",
       "2×2 Matrix{Float64}:\n",
       "  0.291927  -0.708073\n",
       " -0.708073   0.291927\n",
       "\\end{verbatim}\n"
      ],
      "text/markdown": [
       "```\n",
       "cos(x)\n",
       "```\n",
       "\n",
       "Compute cosine of `x`, where `x` is in radians.\n",
       "\n",
       "---\n",
       "\n",
       "```\n",
       "cos(A::AbstractMatrix)\n",
       "```\n",
       "\n",
       "Compute the matrix cosine of a square matrix `A`.\n",
       "\n",
       "If `A` is symmetric or Hermitian, its eigendecomposition ([`eigen`](@ref)) is used to compute the cosine. Otherwise, the cosine is determined by calling [`exp`](@ref).\n",
       "\n",
       "# Examples\n",
       "\n",
       "```jldoctest\n",
       "julia> cos(fill(1.0, (2,2)))\n",
       "2×2 Matrix{Float64}:\n",
       "  0.291927  -0.708073\n",
       " -0.708073   0.291927\n",
       "```\n"
      ],
      "text/plain": [
       "\u001b[36m  cos(x)\u001b[39m\n",
       "\n",
       "  Compute cosine of \u001b[36mx\u001b[39m, where \u001b[36mx\u001b[39m is in radians.\n",
       "\n",
       "  ────────────────────────────────────────────────────────────────────────────\n",
       "\n",
       "\u001b[36m  cos(A::AbstractMatrix)\u001b[39m\n",
       "\n",
       "  Compute the matrix cosine of a square matrix \u001b[36mA\u001b[39m.\n",
       "\n",
       "  If \u001b[36mA\u001b[39m is symmetric or Hermitian, its eigendecomposition (\u001b[36meigen\u001b[39m) is used to\n",
       "  compute the cosine. Otherwise, the cosine is determined by calling \u001b[36mexp\u001b[39m.\n",
       "\n",
       "\u001b[1m  Examples\u001b[22m\n",
       "\u001b[1m  ≡≡≡≡≡≡≡≡≡≡\u001b[22m\n",
       "\n",
       "\u001b[36m  julia> cos(fill(1.0, (2,2)))\u001b[39m\n",
       "\u001b[36m  2×2 Matrix{Float64}:\u001b[39m\n",
       "\u001b[36m    0.291927  -0.708073\u001b[39m\n",
       "\u001b[36m   -0.708073   0.291927\u001b[39m"
      ]
     },
     "execution_count": 2,
     "metadata": {},
     "output_type": "execute_result"
    }
   ],
   "source": [
    "? cos                  #to get help on the cos() function"
   ]
  },
  {
   "cell_type": "markdown",
   "metadata": {},
   "source": [
    "# Load Packages and Extra Functions\n",
    "\n",
    "There are many packages for Julia, for instance, for plotting or statistical methods (see [JuliaHub](https://juliahub.com/) for a list). To install a package, you do either \n",
    "\n",
    "1. (works everywhere) run `import Pkg` and then `Pkg.add(\"Packagename\")`\n",
    "\n",
    "2. (works in the Julia console, REPL) enter the \"package manager mode\" by typing `]`, then run `add PackageName`. You leave the package manager mode by ctrl-c or backspace.\n",
    "\n",
    "Once a package is installed, you can use it by running\n",
    "\n",
    "```\n",
    "using PackageName\n",
    "```"
   ]
  },
  {
   "cell_type": "code",
   "execution_count": 3,
   "metadata": {},
   "outputs": [
    {
     "data": {
      "text/plain": [
       "printyellow (generic function with 1 method)"
      ]
     },
     "execution_count": 3,
     "metadata": {},
     "output_type": "execute_result"
    }
   ],
   "source": [
    "using Printf\n",
    "\n",
    "include(\"jlFiles/printmat.jl\")      #just a function for prettier matrix printing"
   ]
  },
  {
   "cell_type": "code",
   "execution_count": 4,
   "metadata": {},
   "outputs": [],
   "source": [
    "using Plots                 #this loads the Plots package\n",
    "\n",
    "#pyplot(size=(600,400))    #choice of plotting backend\n",
    "gr(size=(480,320))\n",
    "default(fmt = :svg)        #try :png or :svg"
   ]
  },
  {
   "cell_type": "markdown",
   "metadata": {},
   "source": [
    "# Scalars and Matrices\n",
    "\n"
   ]
  },
  {
   "cell_type": "markdown",
   "metadata": {},
   "source": [
    "### Create a Scalar and a Matrix"
   ]
  },
  {
   "cell_type": "code",
   "execution_count": 5,
   "metadata": {},
   "outputs": [
    {
     "name": "stdout",
     "output_type": "stream",
     "text": [
      "q is a scalar. To print, use println() or printlnPs()\n",
      "1\n",
      "\n",
      "Q is a matrix. To print, use display() or printmat()\n",
      "     1         2         3    \n",
      "     4         5         6    \n",
      "\n"
     ]
    }
   ],
   "source": [
    "q = 1                             #create a scalar\n",
    "Q = [ 1 2 3;                      #create 2x3 matrix\n",
    "      4 5 6 ] \n",
    "println(\"q is a scalar. To print, use println() or printlnPs()\")\n",
    "println(q)\n",
    "\n",
    "println(\"\\nQ is a matrix. To print, use display() or printmat()\")\n",
    "printmat(Q)                       #case sensitive (q and Q are different)\n",
    "                                  #the \\n adds a line break   "
   ]
  },
  {
   "cell_type": "markdown",
   "metadata": {},
   "source": [
    "### Picking Out Parts of a Matrix"
   ]
  },
  {
   "cell_type": "code",
   "execution_count": 6,
   "metadata": {},
   "outputs": [
    {
     "name": "stdout",
     "output_type": "stream",
     "text": [
      "\n",
      "element [1,2] of Q: 2\n",
      "\n",
      "columns 2 and 3 of Q: \n",
      "     2         3    \n",
      "     5         6    \n",
      "\n",
      "\n",
      "line 1 of Q (as a vector): \n",
      "     1    \n",
      "     2    \n",
      "     3    \n",
      "\n"
     ]
    }
   ],
   "source": [
    "println(\"\\n\",\"element [1,2] of Q: \",            #commands continue on\n",
    "        Q[1,2])                                 #the next line (until finished)\n",
    "\n",
    "println(\"\\ncolumns 2 and 3 of Q: \")\n",
    "printmat(Q[:,2:3])\n",
    "\n",
    "println(\"\\nline 1 of Q (as a vector): \")\n",
    "printmat(Q[1,:])"
   ]
  },
  {
   "cell_type": "markdown",
   "metadata": {},
   "source": [
    "### Basic Linear Algebra\n",
    "\n",
    "The syntax for linear algebra is similar to the standard text book approach. For instance, \n",
    "* `Q'Q` (or `Q'*Q`) multiplies the transpose ($Q'$) with the matrix ($Q$)\n",
    "* `A*B` does matrix multiplication\n",
    "* `100*Q` multiplies each element of the matrix ($Q$) by 100\n",
    "\n",
    "However, to add a scalar to each element of a matrix, use `100 .+ Q`. Notice the dot."
   ]
  },
  {
   "cell_type": "code",
   "execution_count": 7,
   "metadata": {},
   "outputs": [
    {
     "name": "stdout",
     "output_type": "stream",
     "text": [
      "transpose of Q:\n",
      "     1         4    \n",
      "     2         5    \n",
      "     3         6    \n",
      "\n",
      "Q'Q:\n",
      "    17        22        27    \n",
      "    22        29        36    \n",
      "    27        36        45    \n",
      "\n",
      "scalar * matrix:\n",
      "   100       200       300    \n",
      "   400       500       600    \n",
      "\n",
      "scalar .+ matrix:\n",
      "   101       102       103    \n",
      "   104       105       106    \n",
      "\n"
     ]
    }
   ],
   "source": [
    "println(\"transpose of Q:\")\n",
    "printmat(Q')\n",
    "\n",
    "println(\"Q'Q:\")\n",
    "printmat(Q'Q)\n",
    "\n",
    "println(\"scalar * matrix:\")\n",
    "printmat(100*Q)\n",
    "\n",
    "println(\"scalar .+ matrix:\")        #notice the dot\n",
    "printmat(100 .+ Q)"
   ]
  },
  {
   "cell_type": "markdown",
   "metadata": {},
   "source": [
    "### Creating a Sequence and a Vector"
   ]
  },
  {
   "cell_type": "code",
   "execution_count": 8,
   "metadata": {},
   "outputs": [
    {
     "name": "stdout",
     "output_type": "stream",
     "text": [
      "\n",
      "θ is a sequence: 1:10:21\n",
      "\n",
      "ρ is a vector: \n",
      "     1    \n",
      "    11    \n",
      "    21    \n",
      "\n"
     ]
    }
   ],
   "source": [
    "θ = 1:10:21                  #a range, type \\theta + TAB to get this symbol\n",
    "println(\"\\n\",\"θ is a sequence: \",θ)\n",
    "\n",
    "ρ = collect(θ)               #make the sequence into a vector, \\rho+TAB\n",
    "println(\"\\n\",\"ρ is a vector: \")\n",
    "printmat(ρ)"
   ]
  },
  {
   "cell_type": "markdown",
   "metadata": {},
   "source": [
    "# Comparing Things\n",
    "\n",
    "To see if the scalar z <= 0, do \n",
    "```\n",
    "vv = z <= 0\n",
    "```\n",
    "to get a single output (true or false).\n",
    "\n",
    "Instead, if x is an array, do \n",
    "```\n",
    "vv = x .<= 0                      #notice the dot.\n",
    "```\n",
    "to get an array of outputs (same dimension as x)"
   ]
  },
  {
   "cell_type": "code",
   "execution_count": 9,
   "metadata": {},
   "outputs": [
    {
     "name": "stdout",
     "output_type": "stream",
     "text": [
      "x values: \n",
      "    -1.500\n",
      "    -1.000\n",
      "    -0.500\n",
      "     0.000\n",
      "     0.500\n",
      "\n",
      "true if x is in (-1,0]: \n",
      "     0    \n",
      "     0    \n",
      "     1    \n",
      "     1    \n",
      "     0    \n",
      "\n",
      "x values that are in (-1,0]: \n",
      "    -0.500\n",
      "     0.000\n",
      "\n"
     ]
    }
   ],
   "source": [
    "x =  [-1.5,-1.0,-0.5,0,0.5]             #this is a vector\n",
    "\n",
    "println(\"x values: \")\n",
    "printmat(x)\n",
    "\n",
    "vv = -1 .< x .<= 0                      #true for x values (-1,0], vv is a vector\n",
    "println(\"true if x is in (-1,0]: \")\n",
    "printmat(vv)\n",
    "\n",
    "x2 = x[vv]                              #x values for which vv==true\n",
    "println(\"x values that are in (-1,0]: \")\n",
    "printmat(x2)"
   ]
  },
  {
   "cell_type": "markdown",
   "metadata": {},
   "source": [
    "# Finding Things\n",
    "\n",
    "can be done by, for instance, `findfirst()`, `findall()` and `indexin()`"
   ]
  },
  {
   "cell_type": "code",
   "execution_count": 10,
   "metadata": {},
   "outputs": [
    {
     "name": "stdout",
     "output_type": "stream",
     "text": [
      "x values: \n",
      "    -1.500\n",
      "    -1.000\n",
      "    -0.500\n",
      "     0.000\n",
      "     0.500\n",
      "\n",
      "(first) index v in x such x[v]==0: 4\n",
      "\n",
      "all indices v in x such x[v]>=0: \n",
      "     4    \n",
      "     5    \n",
      "\n",
      "\n",
      "indices in x so that x[v] equals the vector y=[-1.0, 0.0]: \n",
      "     2    \n",
      "     4    \n",
      "\n"
     ]
    }
   ],
   "source": [
    "x =  [-1.5,-1.0,-0.5,0,0.5]             #this is a vector\n",
    "\n",
    "println(\"x values: \")\n",
    "printmat(x)\n",
    "\n",
    "v1 = findfirst(x.==0)\n",
    "println(\"(first) index v in x such x[v]==0: \",v1)\n",
    "\n",
    "v2 = findall(x.>=0)\n",
    "println(\"\\nall indices v in x such x[v]>=0: \")\n",
    "printmat(v2)\n",
    "\n",
    "y = [-1.0,0]\n",
    "v3 = indexin(y,x)\n",
    "println(\"\\nindices in x so that x[v] equals the vector y=$y: \")\n",
    "printmat(v3)"
   ]
  },
  {
   "cell_type": "markdown",
   "metadata": {},
   "source": [
    "# if-elseif-else\n",
    "\n",
    "allows you to run different commands depending on a condition which you specify.\n",
    "\n",
    "(extra) There are also two other (more compact) possibilities for the `if-else` case (no `elseif`). In the example below, we actually calculate `y=minimum(z,2)`:\n",
    "\n",
    "1. `y = ifelse(z <= 2,z,2)` or \n",
    "2.  `z <= 2 ? y = z : y = 2`"
   ]
  },
  {
   "cell_type": "code",
   "execution_count": 11,
   "metadata": {},
   "outputs": [
    {
     "name": "stdout",
     "output_type": "stream",
     "text": [
      "1.05\n"
     ]
    }
   ],
   "source": [
    "z = 1.05\n",
    "\n",
    "if 1 <= z <= 2          #(a) if true, run the next command (y=z) and then jump to end\n",
    "    y = z\n",
    "elseif z < 1            #(b) if (a) is false, try this instead  \n",
    "    y = 1\n",
    "else                    #(c) if also (b) is false, do this\n",
    "    y = 2\n",
    "end\n",
    "\n",
    "println(y)"
   ]
  },
  {
   "cell_type": "markdown",
   "metadata": {},
   "source": [
    "# Loops\n",
    "\n",
    "The are two types of loops: \"for loops\" and \"while loops\". \n",
    "\n",
    "The *for loop* is best when you know how many times you want to loop (for instance, over all $m$ rows in a matrix). \n",
    "\n",
    "The *while loop* is best when you want to keep looping until something happens, for instance, that $x_0$ and $x_1$ get really close.\n",
    "\n",
    "The default behaviour in *IJulia*, *inside functions* and at the *REPL* promt is that assignments of `x` inside the loop overwrites `x` defined before the loop. To get the same behavior in scripts, you need to add `global x` somewhere inside the loop.\n",
    "\n",
    "To make sure that the `y` calculated inside the loop does not affect `y` outside the loop, add `local y`.\n",
    "\n",
    "A variable (here `z2`) that does not exist before the loop is local to the loop."
   ]
  },
  {
   "cell_type": "markdown",
   "metadata": {},
   "source": [
    "### A Simple \"for loop\"\n",
    "\n",
    "The \"for loop\" in the next cell makes 3 iterations and changes a global $x$ variable."
   ]
  },
  {
   "cell_type": "code",
   "execution_count": 12,
   "metadata": {},
   "outputs": [
    {
     "name": "stdout",
     "output_type": "stream",
     "text": [
      "i=3, x=3 and z2=-998\n",
      "i=6, x=9 and z2=-998\n",
      "i=9, x=18 and z2=-998\n",
      "\n",
      "After loop: x=18 and y=-999\n"
     ]
    }
   ],
   "source": [
    "x = 0\n",
    "y = -999\n",
    "for i = 3:3:9                         #or `i in 3:3:9`, or `v=[3,6,9]; i in v`\n",
    "    #global x                         #only needed in script\n",
    "    local y                           #don't overwrite y outside loop\n",
    "    x = x + i                         #adding i to the \"old\" x\n",
    "    y = i\n",
    "    z2 = -998                         #notice: z2 has not been used before \n",
    "    println(\"i=$i, x=$x and z2=$z2\")          #$x prints the value of x\n",
    "end\n",
    "\n",
    "println(\"\\nAfter loop: x=$x and y=$y\")\n",
    "#println(z2)            #does not work: z2 is local to the loop"
   ]
  },
  {
   "cell_type": "markdown",
   "metadata": {},
   "source": [
    "### A Double \"for loop\"\n",
    "\n",
    "An example of a nested for for loop\n",
    "\n",
    "```\n",
    "for j = 1:n, i = 1:m\n",
    "    #do something\n",
    "end\n",
    "```\n",
    "\n",
    "If you prefer, could also write a longer version to do the same thing\n",
    "```\n",
    "for j = 1:n \n",
    "    for i = 1:m\n",
    "        #do something\n",
    "    end    \n",
    "end\n",
    "```\n",
    "\n",
    "The next cell uses a double loop to fill a matrix. "
   ]
  },
  {
   "cell_type": "code",
   "execution_count": 13,
   "metadata": {},
   "outputs": [
    {
     "name": "stdout",
     "output_type": "stream",
     "text": [
      "new x matrix: \n",
      "\n",
      "    11        12        13    \n",
      "    21        22        23    \n",
      "    31        32        33    \n",
      "    41        42        43    \n",
      "\n"
     ]
    }
   ],
   "source": [
    "(m,n) = (4,3)                     #same as m=4;n=3\n",
    "x = fill(-999,(m,n))              #to put results in, initialized as -999\n",
    "for i = 1:m, j = 1:n\n",
    "    x[i,j] = 10*i + j\n",
    "end\n",
    "\n",
    "println(\"new x matrix: \\n\") \n",
    "printmat(x)"
   ]
  },
  {
   "cell_type": "markdown",
   "metadata": {},
   "source": [
    "## A Simple \"while loop\"\n",
    "\n",
    "The \"while loop\" in the next cell iterates until two variables ($x_0$ and $x_1$) get close.\n",
    "\n",
    "The background to the example is that we want to solve a function $f(x)=x^2$ for the $x$ value that makes $f(x)=2$. The Newton-Raphson algorithm starts with a value $x_0$ and updates it to\n",
    "$\n",
    "x_1 = x_0 + (2-f(x_0))/f'(x_0)\n",
    "$\n",
    "where $f'(x_0)$ is the derivative of $f()$ evaluated at $x_0$. The algorithm iterates until $x_0$ and $x_1$ are close. Clearly, we are trying to find the square root of 2."
   ]
  },
  {
   "cell_type": "code",
   "execution_count": 14,
   "metadata": {},
   "outputs": [
    {
     "name": "stdout",
     "output_type": "stream",
     "text": [
      "Solving x^2 = 2 with Newton-Raphson:\n",
      "\n",
      "    10     is changed to      5.100\n",
      "     5.100 is changed to      2.746\n",
      "     2.746 is changed to      1.737\n",
      "     1.737 is changed to      1.444\n",
      "     1.444 is changed to      1.415\n",
      "     1.415 is changed to      1.414\n",
      "\n",
      "The result should be close to      1.414\n"
     ]
    }
   ],
   "source": [
    "println(\"Solving x^2 = 2 with Newton-Raphson:\\n\")\n",
    "\n",
    "x₀ = Inf         #x\\_0 + TAB\n",
    "x₁ = 10\n",
    "\n",
    "while abs(x₁-x₀) > 0.001            #keep going until they get similar\n",
    "    #global x₀, x₁                  #only needed in script\n",
    "    local y, dy                     #don't overwrite any y,dy outside loop\n",
    "    x₀ = x₁                         #initial guess is taken from old guess\n",
    "    y  = x₀^2                       #value of function\n",
    "    dy = 2*x₀                       #derivative of function\n",
    "    x₁ = x₀ + (2 - y)/dy            #updating the guess, Newton-Raphson\n",
    "    printlnPs(x₀,\" is changed to \",x₁)\n",
    "end\n",
    "\n",
    "printlnPs(\"\\nThe result should be close to \",sqrt(2))"
   ]
  },
  {
   "cell_type": "markdown",
   "metadata": {},
   "source": [
    "# A Simple Function\n",
    "\n",
    "The next cell defines a new function, `fn1()`. It takes a scalar input (`x`) and returns a scalar output (`y`).\n",
    "\n",
    "If you instead use a vector as the input, then the computation fails. (The reason is that you cannot do x^2 on a vector. You could on a square matrix, though.)\n",
    "\n",
    "However, using the \"dot\" syntax\n",
    "```\n",
    "y = fn1.(x)\n",
    "```\n",
    "gives an array as output where element `y[i,j] = fn1(x[i,j])`."
   ]
  },
  {
   "cell_type": "code",
   "execution_count": 15,
   "metadata": {},
   "outputs": [
    {
     "data": {
      "text/plain": [
       "fn1 (generic function with 1 method)"
      ]
     },
     "execution_count": 15,
     "metadata": {},
     "output_type": "execute_result"
    }
   ],
   "source": [
    "function fn1(x)               #define a new function \n",
    "  y = (x-1.1)^2 - 0.5\n",
    "  return y\n",
    "end"
   ]
  },
  {
   "cell_type": "code",
   "execution_count": 16,
   "metadata": {},
   "outputs": [
    {
     "name": "stdout",
     "output_type": "stream",
     "text": [
      "result from fn1(1.5):     -0.340\n",
      "\n",
      "result from fn1.(x): \n",
      "    -0.490\n",
      "    -0.340\n",
      "\n"
     ]
    }
   ],
   "source": [
    "y = fn1(1.5)\n",
    "printlnPs(\"result from fn1(1.5): \",y)\n",
    "\n",
    "x = [1;1.5]\n",
    "#y = fn1(x)                   #would give an error \n",
    "y = fn1.(x)                   #calling on the function, dot. to do for each element in x\n",
    "printlnPs(\"\\nresult from fn1.(x): \")\n",
    "printmat(y)"
   ]
  },
  {
   "cell_type": "markdown",
   "metadata": {},
   "source": [
    "# A First Plot\n",
    "\n",
    "With the Plots package you create a a simple plot like this:\n",
    "\n",
    "1. Plot two curve by using the `plot([x1 x2],[y1 y2])` command\n",
    "2. Configure curves by `linecolor =`, `linestyle =` etc\n",
    "2. Add titles and labels by `title = `, `xlabel = `, etc\n",
    "\n",
    "Notice: the *first plot is slow*."
   ]
  },
  {
   "cell_type": "code",
   "execution_count": 17,
   "metadata": {},
   "outputs": [
    {
     "data": {
      "image/svg+xml": [
       "<?xml version=\"1.0\" encoding=\"utf-8\"?>\n",
       "<svg xmlns=\"http://www.w3.org/2000/svg\" xmlns:xlink=\"http://www.w3.org/1999/xlink\" width=\"480\" height=\"320\" viewBox=\"0 0 1920 1280\">\n",
       "<defs>\n",
       "  <clipPath id=\"clip260\">\n",
       "    <rect x=\"0\" y=\"0\" width=\"1920\" height=\"1280\"/>\n",
       "  </clipPath>\n",
       "</defs>\n",
       "<path clip-path=\"url(#clip260)\" d=\"\n",
       "M0 1280 L1920 1280 L1920 0 L0 0  Z\n",
       "  \" fill=\"#ffffff\" fill-rule=\"evenodd\" fill-opacity=\"1\"/>\n",
       "<defs>\n",
       "  <clipPath id=\"clip261\">\n",
       "    <rect x=\"384\" y=\"0\" width=\"1345\" height=\"1280\"/>\n",
       "  </clipPath>\n",
       "</defs>\n",
       "<path clip-path=\"url(#clip260)\" d=\"\n",
       "M194.418 1106.38 L1872.76 1106.38 L1872.76 123.472 L194.418 123.472  Z\n",
       "  \" fill=\"#ffffff\" fill-rule=\"evenodd\" fill-opacity=\"1\"/>\n",
       "<defs>\n",
       "  <clipPath id=\"clip262\">\n",
       "    <rect x=\"194\" y=\"123\" width=\"1679\" height=\"984\"/>\n",
       "  </clipPath>\n",
       "</defs>\n",
       "<polyline clip-path=\"url(#clip262)\" style=\"stroke:#000000; stroke-width:2; stroke-opacity:0.1; fill:none\" points=\"\n",
       "  418.439,1106.38 418.439,123.472 \n",
       "  \"/>\n",
       "<polyline clip-path=\"url(#clip262)\" style=\"stroke:#000000; stroke-width:2; stroke-opacity:0.1; fill:none\" points=\"\n",
       "  771.481,1106.38 771.481,123.472 \n",
       "  \"/>\n",
       "<polyline clip-path=\"url(#clip262)\" style=\"stroke:#000000; stroke-width:2; stroke-opacity:0.1; fill:none\" points=\"\n",
       "  1124.52,1106.38 1124.52,123.472 \n",
       "  \"/>\n",
       "<polyline clip-path=\"url(#clip262)\" style=\"stroke:#000000; stroke-width:2; stroke-opacity:0.1; fill:none\" points=\"\n",
       "  1477.56,1106.38 1477.56,123.472 \n",
       "  \"/>\n",
       "<polyline clip-path=\"url(#clip262)\" style=\"stroke:#000000; stroke-width:2; stroke-opacity:0.1; fill:none\" points=\"\n",
       "  1830.6,1106.38 1830.6,123.472 \n",
       "  \"/>\n",
       "<polyline clip-path=\"url(#clip260)\" style=\"stroke:#000000; stroke-width:4; stroke-opacity:1; fill:none\" points=\"\n",
       "  194.418,1106.38 1872.76,1106.38 \n",
       "  \"/>\n",
       "<polyline clip-path=\"url(#clip260)\" style=\"stroke:#000000; stroke-width:4; stroke-opacity:1; fill:none\" points=\"\n",
       "  418.439,1106.38 418.439,1094.58 \n",
       "  \"/>\n",
       "<polyline clip-path=\"url(#clip260)\" style=\"stroke:#000000; stroke-width:4; stroke-opacity:1; fill:none\" points=\"\n",
       "  771.481,1106.38 771.481,1094.58 \n",
       "  \"/>\n",
       "<polyline clip-path=\"url(#clip260)\" style=\"stroke:#000000; stroke-width:4; stroke-opacity:1; fill:none\" points=\"\n",
       "  1124.52,1106.38 1124.52,1094.58 \n",
       "  \"/>\n",
       "<polyline clip-path=\"url(#clip260)\" style=\"stroke:#000000; stroke-width:4; stroke-opacity:1; fill:none\" points=\"\n",
       "  1477.56,1106.38 1477.56,1094.58 \n",
       "  \"/>\n",
       "<polyline clip-path=\"url(#clip260)\" style=\"stroke:#000000; stroke-width:4; stroke-opacity:1; fill:none\" points=\"\n",
       "  1830.6,1106.38 1830.6,1094.58 \n",
       "  \"/>\n",
       "<path clip-path=\"url(#clip260)\" d=\"M 0 0 M390.893 1146.38 L420.569 1146.38 L420.569 1150.32 L390.893 1150.32 L390.893 1146.38 Z\" fill=\"#000000\" fill-rule=\"evenodd\" fill-opacity=\"1\" /><path clip-path=\"url(#clip260)\" d=\"M 0 0 M429.666 1159.28 L445.985 1159.28 L445.985 1163.21 L424.041 1163.21 L424.041 1159.28 Q426.703 1156.52 431.286 1151.89 Q435.893 1147.24 437.073 1145.9 Q439.319 1143.37 440.198 1141.64 Q441.101 1139.88 441.101 1138.19 Q441.101 1135.43 439.157 1133.7 Q437.235 1131.96 434.133 1131.96 Q431.934 1131.96 429.481 1132.73 Q427.05 1133.49 424.272 1135.04 L424.272 1130.32 Q427.096 1129.18 429.55 1128.61 Q432.004 1128.03 434.041 1128.03 Q439.411 1128.03 442.606 1130.71 Q445.8 1133.4 445.8 1137.89 Q445.8 1140.02 444.99 1141.94 Q444.203 1143.84 442.096 1146.43 Q441.518 1147.1 438.416 1150.32 Q435.314 1153.51 429.666 1159.28 Z\" fill=\"#000000\" fill-rule=\"evenodd\" fill-opacity=\"1\" /><path clip-path=\"url(#clip260)\" d=\"M 0 0 M771.481 1131.73 Q767.869 1131.73 766.041 1135.3 Q764.235 1138.84 764.235 1145.97 Q764.235 1153.07 766.041 1156.64 Q767.869 1160.18 771.481 1160.18 Q775.115 1160.18 776.92 1156.64 Q778.749 1153.07 778.749 1145.97 Q778.749 1138.84 776.92 1135.3 Q775.115 1131.73 771.481 1131.73 M771.481 1128.03 Q777.291 1128.03 780.346 1132.63 Q783.425 1137.22 783.425 1145.97 Q783.425 1154.69 780.346 1159.3 Q777.291 1163.88 771.481 1163.88 Q765.67 1163.88 762.592 1159.3 Q759.536 1154.69 759.536 1145.97 Q759.536 1137.22 762.592 1132.63 Q765.67 1128.03 771.481 1128.03 Z\" fill=\"#000000\" fill-rule=\"evenodd\" fill-opacity=\"1\" /><path clip-path=\"url(#clip260)\" d=\"M 0 0 M1119.17 1159.28 L1135.49 1159.28 L1135.49 1163.21 L1113.55 1163.21 L1113.55 1159.28 Q1116.21 1156.52 1120.8 1151.89 Q1125.4 1147.24 1126.58 1145.9 Q1128.83 1143.37 1129.71 1141.64 Q1130.61 1139.88 1130.61 1138.19 Q1130.61 1135.43 1128.67 1133.7 Q1126.74 1131.96 1123.64 1131.96 Q1121.44 1131.96 1118.99 1132.73 Q1116.56 1133.49 1113.78 1135.04 L1113.78 1130.32 Q1116.61 1129.18 1119.06 1128.61 Q1121.51 1128.03 1123.55 1128.03 Q1128.92 1128.03 1132.11 1130.71 Q1135.31 1133.4 1135.31 1137.89 Q1135.31 1140.02 1134.5 1141.94 Q1133.71 1143.84 1131.61 1146.43 Q1131.03 1147.1 1127.92 1150.32 Q1124.82 1153.51 1119.17 1159.28 Z\" fill=\"#000000\" fill-rule=\"evenodd\" fill-opacity=\"1\" /><path clip-path=\"url(#clip260)\" d=\"M 0 0 M1480.57 1132.73 L1468.77 1151.17 L1480.57 1151.17 L1480.57 1132.73 M1479.35 1128.65 L1485.23 1128.65 L1485.23 1151.17 L1490.16 1151.17 L1490.16 1155.06 L1485.23 1155.06 L1485.23 1163.21 L1480.57 1163.21 L1480.57 1155.06 L1464.97 1155.06 L1464.97 1150.55 L1479.35 1128.65 Z\" fill=\"#000000\" fill-rule=\"evenodd\" fill-opacity=\"1\" /><path clip-path=\"url(#clip260)\" d=\"M 0 0 M1831.01 1144.07 Q1827.86 1144.07 1826.01 1146.22 Q1824.18 1148.37 1824.18 1152.12 Q1824.18 1155.85 1826.01 1158.03 Q1827.86 1160.18 1831.01 1160.18 Q1834.16 1160.18 1835.99 1158.03 Q1837.84 1155.85 1837.84 1152.12 Q1837.84 1148.37 1835.99 1146.22 Q1834.16 1144.07 1831.01 1144.07 M1840.29 1129.42 L1840.29 1133.67 Q1838.53 1132.84 1836.73 1132.4 Q1834.95 1131.96 1833.19 1131.96 Q1828.56 1131.96 1826.1 1135.09 Q1823.67 1138.21 1823.32 1144.53 Q1824.69 1142.52 1826.75 1141.45 Q1828.81 1140.36 1831.29 1140.36 Q1836.5 1140.36 1839.51 1143.54 Q1842.54 1146.68 1842.54 1152.12 Q1842.54 1157.45 1839.39 1160.67 Q1836.24 1163.88 1831.01 1163.88 Q1825.01 1163.88 1821.84 1159.3 Q1818.67 1154.69 1818.67 1145.97 Q1818.67 1137.77 1822.56 1132.91 Q1826.45 1128.03 1833 1128.03 Q1834.76 1128.03 1836.54 1128.37 Q1838.35 1128.72 1840.29 1129.42 Z\" fill=\"#000000\" fill-rule=\"evenodd\" fill-opacity=\"1\" /><path clip-path=\"url(#clip260)\" d=\"M 0 0 M1050.2 1208.4 L1037.31 1225.74 L1050.87 1244.04 L1043.96 1244.04 L1033.59 1230.04 L1023.21 1244.04 L1016.3 1244.04 L1030.15 1225.39 L1017.48 1208.4 L1024.39 1208.4 L1033.84 1221.1 L1043.29 1208.4 L1050.2 1208.4 Z\" fill=\"#000000\" fill-rule=\"evenodd\" fill-opacity=\"1\" /><polyline clip-path=\"url(#clip262)\" style=\"stroke:#000000; stroke-width:2; stroke-opacity:0.1; fill:none\" points=\"\n",
       "  194.418,1040.27 1872.76,1040.27 \n",
       "  \"/>\n",
       "<polyline clip-path=\"url(#clip262)\" style=\"stroke:#000000; stroke-width:2; stroke-opacity:0.1; fill:none\" points=\"\n",
       "  194.418,848.798 1872.76,848.798 \n",
       "  \"/>\n",
       "<polyline clip-path=\"url(#clip262)\" style=\"stroke:#000000; stroke-width:2; stroke-opacity:0.1; fill:none\" points=\"\n",
       "  194.418,657.322 1872.76,657.322 \n",
       "  \"/>\n",
       "<polyline clip-path=\"url(#clip262)\" style=\"stroke:#000000; stroke-width:2; stroke-opacity:0.1; fill:none\" points=\"\n",
       "  194.418,465.846 1872.76,465.846 \n",
       "  \"/>\n",
       "<polyline clip-path=\"url(#clip262)\" style=\"stroke:#000000; stroke-width:2; stroke-opacity:0.1; fill:none\" points=\"\n",
       "  194.418,274.369 1872.76,274.369 \n",
       "  \"/>\n",
       "<polyline clip-path=\"url(#clip260)\" style=\"stroke:#000000; stroke-width:4; stroke-opacity:1; fill:none\" points=\"\n",
       "  194.418,1106.38 194.418,123.472 \n",
       "  \"/>\n",
       "<polyline clip-path=\"url(#clip260)\" style=\"stroke:#000000; stroke-width:4; stroke-opacity:1; fill:none\" points=\"\n",
       "  194.418,1040.27 214.558,1040.27 \n",
       "  \"/>\n",
       "<polyline clip-path=\"url(#clip260)\" style=\"stroke:#000000; stroke-width:4; stroke-opacity:1; fill:none\" points=\"\n",
       "  194.418,848.798 214.558,848.798 \n",
       "  \"/>\n",
       "<polyline clip-path=\"url(#clip260)\" style=\"stroke:#000000; stroke-width:4; stroke-opacity:1; fill:none\" points=\"\n",
       "  194.418,657.322 214.558,657.322 \n",
       "  \"/>\n",
       "<polyline clip-path=\"url(#clip260)\" style=\"stroke:#000000; stroke-width:4; stroke-opacity:1; fill:none\" points=\"\n",
       "  194.418,465.846 214.558,465.846 \n",
       "  \"/>\n",
       "<polyline clip-path=\"url(#clip260)\" style=\"stroke:#000000; stroke-width:4; stroke-opacity:1; fill:none\" points=\"\n",
       "  194.418,274.369 214.558,274.369 \n",
       "  \"/>\n",
       "<path clip-path=\"url(#clip260)\" d=\"M 0 0 M153.674 1026.07 Q150.063 1026.07 148.234 1029.64 Q146.429 1033.18 146.429 1040.31 Q146.429 1047.42 148.234 1050.98 Q150.063 1054.52 153.674 1054.52 Q157.308 1054.52 159.114 1050.98 Q160.942 1047.42 160.942 1040.31 Q160.942 1033.18 159.114 1029.64 Q157.308 1026.07 153.674 1026.07 M153.674 1022.37 Q159.484 1022.37 162.54 1026.98 Q165.618 1031.56 165.618 1040.31 Q165.618 1049.04 162.54 1053.64 Q159.484 1058.23 153.674 1058.23 Q147.864 1058.23 144.785 1053.64 Q141.729 1049.04 141.729 1040.31 Q141.729 1031.56 144.785 1026.98 Q147.864 1022.37 153.674 1022.37 Z\" fill=\"#000000\" fill-rule=\"evenodd\" fill-opacity=\"1\" /><path clip-path=\"url(#clip260)\" d=\"M 0 0 M144.716 831.518 L163.072 831.518 L163.072 835.453 L148.998 835.453 L148.998 843.925 Q150.016 843.578 151.035 843.416 Q152.053 843.231 153.072 843.231 Q158.859 843.231 162.239 846.402 Q165.618 849.574 165.618 854.99 Q165.618 860.569 162.146 863.671 Q158.674 866.749 152.354 866.749 Q150.178 866.749 147.91 866.379 Q145.665 866.009 143.257 865.268 L143.257 860.569 Q145.341 861.703 147.563 862.259 Q149.785 862.814 152.262 862.814 Q156.266 862.814 158.604 860.708 Q160.942 858.601 160.942 854.99 Q160.942 851.379 158.604 849.273 Q156.266 847.166 152.262 847.166 Q150.387 847.166 148.512 847.583 Q146.66 848 144.716 848.879 L144.716 831.518 Z\" fill=\"#000000\" fill-rule=\"evenodd\" fill-opacity=\"1\" /><path clip-path=\"url(#clip260)\" d=\"M 0 0 M118.697 670.667 L126.336 670.667 L126.336 644.301 L118.026 645.968 L118.026 641.708 L126.29 640.042 L130.966 640.042 L130.966 670.667 L138.604 670.667 L138.604 674.602 L118.697 674.602 L118.697 670.667 Z\" fill=\"#000000\" fill-rule=\"evenodd\" fill-opacity=\"1\" /><path clip-path=\"url(#clip260)\" d=\"M 0 0 M153.674 643.121 Q150.063 643.121 148.234 646.685 Q146.429 650.227 146.429 657.357 Q146.429 664.463 148.234 668.028 Q150.063 671.569 153.674 671.569 Q157.308 671.569 159.114 668.028 Q160.942 664.463 160.942 657.357 Q160.942 650.227 159.114 646.685 Q157.308 643.121 153.674 643.121 M153.674 639.417 Q159.484 639.417 162.54 644.023 Q165.618 648.607 165.618 657.357 Q165.618 666.083 162.54 670.69 Q159.484 675.273 153.674 675.273 Q147.864 675.273 144.785 670.69 Q141.729 666.083 141.729 657.357 Q141.729 648.607 144.785 644.023 Q147.864 639.417 153.674 639.417 Z\" fill=\"#000000\" fill-rule=\"evenodd\" fill-opacity=\"1\" /><path clip-path=\"url(#clip260)\" d=\"M 0 0 M119.693 479.19 L127.331 479.19 L127.331 452.825 L119.021 454.491 L119.021 450.232 L127.285 448.566 L131.961 448.566 L131.961 479.19 L139.6 479.19 L139.6 483.126 L119.693 483.126 L119.693 479.19 Z\" fill=\"#000000\" fill-rule=\"evenodd\" fill-opacity=\"1\" /><path clip-path=\"url(#clip260)\" d=\"M 0 0 M144.716 448.566 L163.072 448.566 L163.072 452.501 L148.998 452.501 L148.998 460.973 Q150.016 460.626 151.035 460.464 Q152.053 460.278 153.072 460.278 Q158.859 460.278 162.239 463.45 Q165.618 466.621 165.618 472.038 Q165.618 477.616 162.146 480.718 Q158.674 483.797 152.354 483.797 Q150.178 483.797 147.91 483.426 Q145.665 483.056 143.257 482.315 L143.257 477.616 Q145.341 478.751 147.563 479.306 Q149.785 479.862 152.262 479.862 Q156.266 479.862 158.604 477.755 Q160.942 475.649 160.942 472.038 Q160.942 468.427 158.604 466.32 Q156.266 464.214 152.262 464.214 Q150.387 464.214 148.512 464.63 Q146.66 465.047 144.716 465.927 L144.716 448.566 Z\" fill=\"#000000\" fill-rule=\"evenodd\" fill-opacity=\"1\" /><path clip-path=\"url(#clip260)\" d=\"M 0 0 M122.285 287.714 L138.604 287.714 L138.604 291.649 L116.66 291.649 L116.66 287.714 Q119.322 284.959 123.905 280.33 Q128.512 275.677 129.692 274.335 Q131.938 271.811 132.817 270.075 Q133.72 268.316 133.72 266.626 Q133.72 263.872 131.776 262.136 Q129.855 260.399 126.753 260.399 Q124.554 260.399 122.1 261.163 Q119.669 261.927 116.892 263.478 L116.892 258.756 Q119.716 257.622 122.169 257.043 Q124.623 256.464 126.66 256.464 Q132.03 256.464 135.225 259.149 Q138.419 261.835 138.419 266.325 Q138.419 268.455 137.609 270.376 Q136.822 272.274 134.716 274.867 Q134.137 275.538 131.035 278.756 Q127.933 281.95 122.285 287.714 Z\" fill=\"#000000\" fill-rule=\"evenodd\" fill-opacity=\"1\" /><path clip-path=\"url(#clip260)\" d=\"M 0 0 M153.674 260.168 Q150.063 260.168 148.234 263.733 Q146.429 267.274 146.429 274.404 Q146.429 281.51 148.234 285.075 Q150.063 288.617 153.674 288.617 Q157.308 288.617 159.114 285.075 Q160.942 281.51 160.942 274.404 Q160.942 267.274 159.114 263.733 Q157.308 260.168 153.674 260.168 M153.674 256.464 Q159.484 256.464 162.54 261.071 Q165.618 265.654 165.618 274.404 Q165.618 283.131 162.54 287.737 Q159.484 292.321 153.674 292.321 Q147.864 292.321 144.785 287.737 Q141.729 283.131 141.729 274.404 Q141.729 265.654 144.785 261.071 Q147.864 256.464 153.674 256.464 Z\" fill=\"#000000\" fill-rule=\"evenodd\" fill-opacity=\"1\" /><path clip-path=\"url(#clip260)\" d=\"M 0 0 M44.7993 825.806 Q40.8526 823.61 38.9747 820.554 Q37.0968 817.499 37.0968 813.361 Q37.0968 807.791 41.0117 804.767 Q44.8948 801.744 52.0881 801.744 L73.6042 801.744 L73.6042 807.632 L52.279 807.632 Q47.1546 807.632 44.672 809.446 Q42.1894 811.26 42.1894 814.984 Q42.1894 819.536 45.2131 822.177 Q48.2368 824.819 53.4567 824.819 L73.6042 824.819 L73.6042 830.708 L52.279 830.708 Q47.1228 830.708 44.672 832.522 Q42.1894 834.336 42.1894 838.124 Q42.1894 842.611 45.2449 845.253 Q48.2686 847.895 53.4567 847.895 L73.6042 847.895 L73.6042 853.783 L37.9562 853.783 L37.9562 847.895 L43.4944 847.895 Q40.216 845.89 38.6564 843.089 Q37.0968 840.288 37.0968 836.437 Q37.0968 832.554 39.0702 829.848 Q41.0436 827.111 44.7993 825.806 Z\" fill=\"#000000\" fill-rule=\"evenodd\" fill-opacity=\"1\" /><path clip-path=\"url(#clip260)\" d=\"M 0 0 M76.9143 780.769 Q83.28 783.251 85.2216 785.606 Q87.1631 787.962 87.1631 791.909 L87.1631 796.587 L82.2615 796.587 L82.2615 793.15 Q82.2615 790.731 81.1157 789.394 Q79.9699 788.057 75.7048 786.434 L73.0312 785.384 L37.9562 799.802 L37.9562 793.595 L65.838 782.455 L37.9562 771.315 L37.9562 765.109 L76.9143 780.769 Z\" fill=\"#000000\" fill-rule=\"evenodd\" fill-opacity=\"1\" /><path clip-path=\"url(#clip260)\" d=\"M 0 0 M42.0621 724.432 Q42.0621 729.143 45.7542 731.88 Q49.4145 734.617 55.812 734.617 Q62.2095 734.617 65.9017 731.912 Q69.5619 729.175 69.5619 724.432 Q69.5619 719.753 65.8698 717.016 Q62.1777 714.279 55.812 714.279 Q49.4781 714.279 45.786 717.016 Q42.0621 719.753 42.0621 724.432 M37.0968 724.432 Q37.0968 716.793 42.0621 712.433 Q47.0273 708.072 55.812 708.072 Q64.5649 708.072 69.5619 712.433 Q74.5272 716.793 74.5272 724.432 Q74.5272 732.103 69.5619 736.463 Q64.5649 740.792 55.812 740.792 Q47.0273 740.792 42.0621 736.463 Q37.0968 732.103 37.0968 724.432 Z\" fill=\"#000000\" fill-rule=\"evenodd\" fill-opacity=\"1\" /><path clip-path=\"url(#clip260)\" d=\"M 0 0 M59.5359 702.534 L37.9562 702.534 L37.9562 696.678 L59.3131 696.678 Q64.3739 696.678 66.9202 694.704 Q69.4346 692.731 69.4346 688.784 Q69.4346 684.042 66.4109 681.304 Q63.3872 678.535 58.1673 678.535 L37.9562 678.535 L37.9562 672.679 L73.6042 672.679 L73.6042 678.535 L68.1296 678.535 Q71.3762 680.668 72.9676 683.501 Q74.5272 686.301 74.5272 690.025 Q74.5272 696.168 70.7078 699.351 Q66.8883 702.534 59.5359 702.534 M37.0968 687.797 L37.0968 687.797 Z\" fill=\"#000000\" fill-rule=\"evenodd\" fill-opacity=\"1\" /><path clip-path=\"url(#clip260)\" d=\"M 0 0 M27.8347 660.743 L37.9562 660.743 L37.9562 648.68 L42.5077 648.68 L42.5077 660.743 L61.8594 660.743 Q66.2199 660.743 67.4613 659.566 Q68.7026 658.356 68.7026 654.696 L68.7026 648.68 L73.6042 648.68 L73.6042 654.696 Q73.6042 661.475 71.0897 664.053 Q68.5434 666.631 61.8594 666.631 L42.5077 666.631 L42.5077 670.928 L37.9562 670.928 L37.9562 666.631 L27.8347 666.631 L27.8347 660.743 Z\" fill=\"#000000\" fill-rule=\"evenodd\" fill-opacity=\"1\" /><path clip-path=\"url(#clip260)\" d=\"M 0 0 M68.257 636.872 L87.1631 636.872 L87.1631 642.76 L37.9562 642.76 L37.9562 636.872 L43.3671 636.872 Q40.1842 635.026 38.6564 632.225 Q37.0968 629.392 37.0968 625.477 Q37.0968 618.984 42.2531 614.942 Q47.4093 610.868 55.812 610.868 Q64.2147 610.868 69.371 614.942 Q74.5272 618.984 74.5272 625.477 Q74.5272 629.392 72.9994 632.225 Q71.4398 635.026 68.257 636.872 M55.812 616.947 Q49.3508 616.947 45.6905 619.621 Q41.9984 622.262 41.9984 626.909 Q41.9984 631.556 45.6905 634.23 Q49.3508 636.872 55.812 636.872 Q62.2732 636.872 65.9653 634.23 Q69.6256 631.556 69.6256 626.909 Q69.6256 622.262 65.9653 619.621 Q62.2732 616.947 55.812 616.947 Z\" fill=\"#000000\" fill-rule=\"evenodd\" fill-opacity=\"1\" /><path clip-path=\"url(#clip260)\" d=\"M 0 0 M59.5359 605.33 L37.9562 605.33 L37.9562 599.473 L59.3131 599.473 Q64.3739 599.473 66.9202 597.5 Q69.4346 595.526 69.4346 591.58 Q69.4346 586.837 66.4109 584.1 Q63.3872 581.331 58.1673 581.331 L37.9562 581.331 L37.9562 575.475 L73.6042 575.475 L73.6042 581.331 L68.1296 581.331 Q71.3762 583.463 72.9676 586.296 Q74.5272 589.097 74.5272 592.821 Q74.5272 598.964 70.7078 602.147 Q66.8883 605.33 59.5359 605.33 M37.0968 590.593 L37.0968 590.593 Z\" fill=\"#000000\" fill-rule=\"evenodd\" fill-opacity=\"1\" /><path clip-path=\"url(#clip260)\" d=\"M 0 0 M27.8347 563.539 L37.9562 563.539 L37.9562 551.476 L42.5077 551.476 L42.5077 563.539 L61.8594 563.539 Q66.2199 563.539 67.4613 562.361 Q68.7026 561.152 68.7026 557.491 L68.7026 551.476 L73.6042 551.476 L73.6042 557.491 Q73.6042 564.271 71.0897 566.849 Q68.5434 569.427 61.8594 569.427 L42.5077 569.427 L42.5077 573.724 L37.9562 573.724 L37.9562 569.427 L27.8347 569.427 L27.8347 563.539 Z\" fill=\"#000000\" fill-rule=\"evenodd\" fill-opacity=\"1\" /><path clip-path=\"url(#clip260)\" d=\"M 0 0 M37.9562 528.814 L37.9562 522.607 L67.875 511.467 L37.9562 500.327 L37.9562 494.121 L73.6042 507.489 L73.6042 515.446 L37.9562 528.814 Z\" fill=\"#000000\" fill-rule=\"evenodd\" fill-opacity=\"1\" /><path clip-path=\"url(#clip260)\" d=\"M 0 0 M55.6847 471.777 Q55.6847 478.875 57.3079 481.612 Q58.9312 484.349 62.8461 484.349 Q65.9653 484.349 67.8114 482.312 Q69.6256 480.244 69.6256 476.711 Q69.6256 471.841 66.1881 468.913 Q62.7188 465.953 56.9897 465.953 L55.6847 465.953 L55.6847 471.777 M53.2657 460.096 L73.6042 460.096 L73.6042 465.953 L68.1933 465.953 Q71.4398 467.958 72.9994 470.95 Q74.5272 473.941 74.5272 478.27 Q74.5272 483.745 71.4716 486.991 Q68.3843 490.206 63.2281 490.206 Q57.2125 490.206 54.1569 486.195 Q51.1014 482.153 51.1014 474.164 L51.1014 465.953 L50.5285 465.953 Q46.4862 465.953 44.2901 468.626 Q42.0621 471.268 42.0621 476.074 Q42.0621 479.13 42.7941 482.026 Q43.5262 484.922 44.9903 487.596 L39.5795 487.596 Q38.3381 484.381 37.7334 481.358 Q37.0968 478.334 37.0968 475.469 Q37.0968 467.735 41.1072 463.916 Q45.1176 460.096 53.2657 460.096 Z\" fill=\"#000000\" fill-rule=\"evenodd\" fill-opacity=\"1\" /><path clip-path=\"url(#clip260)\" d=\"M 0 0 M24.079 453.953 L24.079 448.097 L73.6042 448.097 L73.6042 453.953 L24.079 453.953 Z\" fill=\"#000000\" fill-rule=\"evenodd\" fill-opacity=\"1\" /><path clip-path=\"url(#clip260)\" d=\"M 0 0 M59.5359 442.559 L37.9562 442.559 L37.9562 436.702 L59.3131 436.702 Q64.3739 436.702 66.9202 434.729 Q69.4346 432.755 69.4346 428.809 Q69.4346 424.066 66.4109 421.329 Q63.3872 418.56 58.1673 418.56 L37.9562 418.56 L37.9562 412.703 L73.6042 412.703 L73.6042 418.56 L68.1296 418.56 Q71.3762 420.692 72.9676 423.525 Q74.5272 426.326 74.5272 430.05 Q74.5272 436.193 70.7078 439.376 Q66.8883 442.559 59.5359 442.559 M37.0968 427.822 L37.0968 427.822 Z\" fill=\"#000000\" fill-rule=\"evenodd\" fill-opacity=\"1\" /><path clip-path=\"url(#clip260)\" d=\"M 0 0 M54.3161 376.069 L57.1806 376.069 L57.1806 402.996 Q63.2281 402.614 66.4109 399.367 Q69.5619 396.089 69.5619 390.264 Q69.5619 386.89 68.7344 383.739 Q67.9069 380.557 66.2518 377.437 L71.7899 377.437 Q73.1267 380.588 73.827 383.899 Q74.5272 387.209 74.5272 390.614 Q74.5272 399.144 69.5619 404.142 Q64.5967 409.107 56.1303 409.107 Q47.3774 409.107 42.2531 404.396 Q37.0968 399.654 37.0968 391.633 Q37.0968 384.44 41.7438 380.27 Q46.3589 376.069 54.3161 376.069 M52.5973 381.925 Q47.7912 381.989 44.9266 384.631 Q42.0621 387.241 42.0621 391.569 Q42.0621 396.471 44.8312 399.431 Q47.6002 402.359 52.6292 402.805 L52.5973 381.925 Z\" fill=\"#000000\" fill-rule=\"evenodd\" fill-opacity=\"1\" /><path clip-path=\"url(#clip260)\" d=\"M 0 0 M835.741 12.096 L847.934 12.096 L863.368 53.2532 L878.883 12.096 L891.076 12.096 L891.076 72.576 L883.096 72.576 L883.096 19.4686 L867.5 60.9499 L859.277 60.9499 L843.681 19.4686 L843.681 72.576 L835.741 72.576 L835.741 12.096 Z\" fill=\"#000000\" fill-rule=\"evenodd\" fill-opacity=\"1\" /><path clip-path=\"url(#clip260)\" d=\"M 0 0 M917.772 76.7889 Q914.612 84.8907 911.614 87.3618 Q908.617 89.8329 903.594 89.8329 L897.639 89.8329 L897.639 83.5945 L902.014 83.5945 Q905.092 83.5945 906.794 82.1361 Q908.495 80.6778 910.561 75.2496 L911.898 71.8468 L893.547 27.2059 L901.447 27.2059 L915.625 62.6918 L929.803 27.2059 L937.702 27.2059 L917.772 76.7889 Z\" fill=\"#000000\" fill-rule=\"evenodd\" fill-opacity=\"1\" /><path clip-path=\"url(#clip260)\" d=\"M 0 0 M1000.9 44.2197 Q1003.53 45.1109 1006 48.0275 Q1008.51 50.9442 1011.02 56.0483 L1019.33 72.576 L1010.54 72.576 L1002.8 57.061 Q999.803 50.9847 996.967 48.9997 Q994.172 47.0148 989.311 47.0148 L980.399 47.0148 L980.399 72.576 L972.216 72.576 L972.216 12.096 L990.688 12.096 Q1001.06 12.096 1006.16 16.4305 Q1011.27 20.7649 1011.27 29.5149 Q1011.27 35.2267 1008.59 38.994 Q1005.96 42.7613 1000.9 44.2197 M980.399 18.8205 L980.399 40.2903 L990.688 40.2903 Q996.602 40.2903 999.6 37.5762 Q1002.64 34.8216 1002.64 29.5149 Q1002.64 24.2082 999.6 21.5346 Q996.602 18.8205 990.688 18.8205 L980.399 18.8205 Z\" fill=\"#000000\" fill-rule=\"evenodd\" fill-opacity=\"1\" /><path clip-path=\"url(#clip260)\" d=\"M 0 0 M1062.23 48.0275 L1062.23 51.6733 L1027.96 51.6733 Q1028.44 59.3701 1032.57 63.421 Q1036.75 67.4314 1044.16 67.4314 Q1048.45 67.4314 1052.46 66.3781 Q1056.52 65.3249 1060.49 63.2184 L1060.49 70.267 Q1056.47 71.9684 1052.26 72.8596 Q1048.05 73.7508 1043.71 73.7508 Q1032.86 73.7508 1026.5 67.4314 Q1020.18 61.1119 1020.18 50.3365 Q1020.18 39.1965 1026.17 32.6746 Q1032.21 26.1121 1042.42 26.1121 Q1051.57 26.1121 1056.88 32.0264 Q1062.23 37.9003 1062.23 48.0275 M1054.77 45.84 Q1054.69 39.7232 1051.33 36.0774 Q1048.01 32.4315 1042.5 32.4315 Q1036.26 32.4315 1032.49 35.9558 Q1028.77 39.4801 1028.2 45.8805 L1054.77 45.84 Z\" fill=\"#000000\" fill-rule=\"evenodd\" fill-opacity=\"1\" /><path clip-path=\"url(#clip260)\" d=\"M 0 0 M1098.97 28.5427 L1098.97 35.5912 Q1095.81 33.9709 1092.41 33.1607 Q1089 32.3505 1085.36 32.3505 Q1079.81 32.3505 1077.01 34.0519 Q1074.26 35.7533 1074.26 39.156 Q1074.26 41.7486 1076.24 43.2475 Q1078.23 44.7058 1084.22 46.0426 L1086.78 46.6097 Q1094.72 48.3111 1098.04 51.4303 Q1101.4 54.509 1101.4 60.0587 Q1101.4 66.3781 1096.38 70.0644 Q1091.39 73.7508 1082.64 73.7508 Q1079 73.7508 1075.03 73.0216 Q1071.1 72.3329 1066.72 70.9151 L1066.72 63.2184 Q1070.86 65.3654 1074.87 66.4591 Q1078.88 67.5124 1082.81 67.5124 Q1088.07 67.5124 1090.91 65.73 Q1093.74 63.9071 1093.74 60.6258 Q1093.74 57.5877 1091.68 55.9673 Q1089.65 54.3469 1082.72 52.8481 L1080.13 52.2405 Q1073.2 50.7821 1070.13 47.7845 Q1067.05 44.7463 1067.05 39.4801 Q1067.05 33.0797 1071.58 29.5959 Q1076.12 26.1121 1084.47 26.1121 Q1088.6 26.1121 1092.24 26.7198 Q1095.89 27.3274 1098.97 28.5427 Z\" fill=\"#000000\" fill-rule=\"evenodd\" fill-opacity=\"1\" /><path clip-path=\"url(#clip260)\" d=\"M 0 0 M1108.45 54.671 L1108.45 27.2059 L1115.9 27.2059 L1115.9 54.3874 Q1115.9 60.8284 1118.41 64.0691 Q1120.92 67.2693 1125.95 67.2693 Q1131.98 67.2693 1135.47 63.421 Q1138.99 59.5726 1138.99 52.9291 L1138.99 27.2059 L1146.45 27.2059 L1146.45 72.576 L1138.99 72.576 L1138.99 65.6084 Q1136.28 69.7404 1132.67 71.7658 Q1129.11 73.7508 1124.37 73.7508 Q1116.55 73.7508 1112.5 68.8897 Q1108.45 64.0286 1108.45 54.671 M1127.2 26.1121 L1127.2 26.1121 Z\" fill=\"#000000\" fill-rule=\"evenodd\" fill-opacity=\"1\" /><path clip-path=\"url(#clip260)\" d=\"M 0 0 M1154.26 9.54393 L1161.72 9.54393 L1161.72 72.576 L1154.26 72.576 L1154.26 9.54393 Z\" fill=\"#000000\" fill-rule=\"evenodd\" fill-opacity=\"1\" /><path clip-path=\"url(#clip260)\" d=\"M 0 0 M1176.91 14.324 L1176.91 27.2059 L1192.26 27.2059 L1192.26 32.9987 L1176.91 32.9987 L1176.91 57.6282 Q1176.91 63.1779 1178.41 64.7578 Q1179.95 66.3376 1184.6 66.3376 L1192.26 66.3376 L1192.26 72.576 L1184.6 72.576 Q1175.98 72.576 1172.7 69.3758 Q1169.41 66.1351 1169.41 57.6282 L1169.41 32.9987 L1163.95 32.9987 L1163.95 27.2059 L1169.41 27.2059 L1169.41 14.324 L1176.91 14.324 Z\" fill=\"#000000\" fill-rule=\"evenodd\" fill-opacity=\"1\" /><path clip-path=\"url(#clip260)\" d=\"M 0 0 M1229 28.5427 L1229 35.5912 Q1225.84 33.9709 1222.44 33.1607 Q1219.04 32.3505 1215.39 32.3505 Q1209.84 32.3505 1207.05 34.0519 Q1204.29 35.7533 1204.29 39.156 Q1204.29 41.7486 1206.28 43.2475 Q1208.26 44.7058 1214.26 46.0426 L1216.81 46.6097 Q1224.75 48.3111 1228.07 51.4303 Q1231.43 54.509 1231.43 60.0587 Q1231.43 66.3781 1226.41 70.0644 Q1221.43 73.7508 1212.68 73.7508 Q1209.03 73.7508 1205.06 73.0216 Q1201.13 72.3329 1196.76 70.9151 L1196.76 63.2184 Q1200.89 65.3654 1204.9 66.4591 Q1208.91 67.5124 1212.84 67.5124 Q1218.11 67.5124 1220.94 65.73 Q1223.78 63.9071 1223.78 60.6258 Q1223.78 57.5877 1221.71 55.9673 Q1219.69 54.3469 1212.76 52.8481 L1210.17 52.2405 Q1203.24 50.7821 1200.16 47.7845 Q1197.08 44.7463 1197.08 39.4801 Q1197.08 33.0797 1201.62 29.5959 Q1206.16 26.1121 1214.5 26.1121 Q1218.63 26.1121 1222.28 26.7198 Q1225.92 27.3274 1229 28.5427 Z\" fill=\"#000000\" fill-rule=\"evenodd\" fill-opacity=\"1\" /><polyline clip-path=\"url(#clip262)\" style=\"stroke:#ff0000; stroke-width:8; stroke-opacity:1; fill:none\" points=\"\n",
       "  241.918,415.679 252.617,434.57 263.315,453.179 274.013,471.508 284.711,489.554 295.409,507.32 306.108,524.804 316.806,542.007 327.504,558.929 338.202,575.569 \n",
       "  348.901,591.928 359.599,608.006 370.297,623.802 380.995,639.317 391.694,654.551 402.392,669.504 413.09,684.175 423.788,698.564 434.486,712.673 445.185,726.5 \n",
       "  455.883,740.046 466.581,753.31 477.279,766.293 487.978,778.995 498.676,791.415 509.374,803.554 520.072,815.412 530.77,826.989 541.469,838.284 552.167,849.298 \n",
       "  562.865,860.03 573.563,870.482 584.262,880.651 594.96,890.54 605.658,900.147 616.356,909.473 627.054,918.518 637.753,927.281 648.451,935.763 659.149,943.963 \n",
       "  669.847,951.883 680.546,959.521 691.244,966.877 701.942,973.953 712.64,980.747 723.339,987.259 734.037,993.491 744.735,999.441 755.433,1005.11 766.131,1010.5 \n",
       "  776.83,1015.6 787.528,1020.43 798.226,1024.97 808.924,1029.23 819.623,1033.21 830.321,1036.91 841.019,1040.33 851.717,1043.47 862.415,1046.32 873.114,1048.9 \n",
       "  883.812,1051.19 894.51,1053.2 905.208,1054.93 915.907,1056.38 926.605,1057.55 937.303,1058.43 948.001,1059.04 958.699,1059.36 969.398,1059.4 980.096,1059.17 \n",
       "  990.794,1058.65 1001.49,1057.84 1012.19,1056.76 1022.89,1055.4 1033.59,1053.75 1044.29,1051.82 1054.98,1049.61 1065.68,1047.12 1076.38,1044.35 1087.08,1041.3 \n",
       "  1097.78,1037.97 1108.47,1034.35 1119.17,1030.46 1129.87,1026.28 1140.57,1021.82 1151.27,1017.08 1161.97,1012.06 1172.66,1006.75 1183.36,1001.17 1194.06,995.305 \n",
       "  1204.76,989.158 1215.46,982.73 1226.16,976.02 1236.85,969.029 1247.55,961.757 1258.25,954.204 1268.95,946.369 1279.65,938.253 1290.34,929.855 1301.04,921.176 \n",
       "  1311.74,912.216 1322.44,902.974 1333.14,893.452 1343.84,883.647 1354.53,873.562 1365.23,863.195 1375.93,852.547 1386.63,841.618 1397.33,830.407 1408.02,818.915 \n",
       "  1418.72,807.141 1429.42,795.087 1440.12,782.751 1450.82,770.133 1461.52,757.234 1472.21,744.054 1482.91,730.593 1493.61,716.85 1504.31,702.826 1515.01,688.521 \n",
       "  1525.71,673.934 1536.4,659.066 1547.1,643.917 1557.8,628.486 1568.5,612.774 1579.2,596.781 1589.89,580.507 1600.59,563.951 1611.29,547.113 1621.99,529.995 \n",
       "  1632.69,512.595 1643.39,494.914 1654.08,476.951 1664.78,458.707 1675.48,440.182 1686.18,421.376 1696.88,402.288 1707.58,382.919 1718.27,363.268 1728.97,343.336 \n",
       "  1739.67,323.123 1750.37,302.629 1761.07,281.853 1771.76,260.796 1782.46,239.457 1793.16,217.838 1803.86,195.936 1814.56,173.754 1825.26,151.29 \n",
       "  \"/>\n",
       "<polyline clip-path=\"url(#clip262)\" style=\"stroke:#0000ff; stroke-width:4; stroke-opacity:1; fill:none\" stroke-dasharray=\"16, 10\" points=\"\n",
       "  241.918,1078.19 252.617,1077.79 263.315,1077.25 274.013,1076.58 284.711,1075.78 295.409,1074.85 306.108,1073.79 316.806,1072.6 327.504,1071.3 338.202,1069.88 \n",
       "  348.901,1068.36 359.599,1066.73 370.297,1065 380.995,1063.18 391.694,1061.28 402.392,1059.31 413.09,1057.26 423.788,1055.15 434.486,1052.98 445.185,1050.77 \n",
       "  455.883,1048.52 466.581,1046.24 477.279,1043.94 487.978,1041.62 498.676,1039.3 509.374,1036.99 520.072,1034.68 530.77,1032.4 541.469,1030.14 552.167,1027.92 \n",
       "  562.865,1025.75 573.563,1023.63 584.262,1021.57 594.96,1019.58 605.658,1017.67 616.356,1015.84 627.054,1014.1 637.753,1012.45 648.451,1010.91 659.149,1009.47 \n",
       "  669.847,1008.15 680.546,1006.95 691.244,1005.87 701.942,1004.91 712.64,1004.09 723.339,1003.39 734.037,1002.84 744.735,1002.42 755.433,1002.14 766.131,1002 \n",
       "  776.83,1002 787.528,1002.14 798.226,1002.42 808.924,1002.84 819.623,1003.39 830.321,1004.09 841.019,1004.91 851.717,1005.87 862.415,1006.95 873.114,1008.15 \n",
       "  883.812,1009.47 894.51,1010.91 905.208,1012.45 915.907,1014.1 926.605,1015.84 937.303,1017.67 948.001,1019.58 958.699,1021.57 969.398,1023.63 980.096,1025.75 \n",
       "  990.794,1027.92 1001.49,1030.14 1012.19,1032.4 1022.89,1034.68 1033.59,1036.99 1044.29,1039.3 1054.98,1041.62 1065.68,1043.94 1076.38,1046.24 1087.08,1048.52 \n",
       "  1097.78,1050.77 1108.47,1052.98 1119.17,1055.15 1129.87,1057.26 1140.57,1059.31 1151.27,1061.28 1161.97,1063.18 1172.66,1065 1183.36,1066.73 1194.06,1068.36 \n",
       "  1204.76,1069.88 1215.46,1071.3 1226.16,1072.6 1236.85,1073.79 1247.55,1074.85 1258.25,1075.78 1268.95,1076.58 1279.65,1077.25 1290.34,1077.79 1301.04,1078.19 \n",
       "  1311.74,1078.44 1322.44,1078.56 1333.14,1078.54 1343.84,1078.38 1354.53,1078.07 1365.23,1077.63 1375.93,1077.05 1386.63,1076.34 1397.33,1075.49 1408.02,1074.51 \n",
       "  1418.72,1073.41 1429.42,1072.19 1440.12,1070.85 1450.82,1069.39 1461.52,1067.83 1472.21,1066.17 1482.91,1064.42 1493.61,1062.57 1504.31,1060.64 1515.01,1058.64 \n",
       "  1525.71,1056.57 1536.4,1054.45 1547.1,1052.26 1557.8,1050.04 1568.5,1047.78 1579.2,1045.49 1589.89,1043.18 1600.59,1040.86 1611.29,1038.54 1621.99,1036.23 \n",
       "  1632.69,1033.93 1643.39,1031.66 1654.08,1029.41 1664.78,1027.21 1675.48,1025.05 1686.18,1022.95 1696.88,1020.91 1707.58,1018.95 1718.27,1017.06 1728.97,1015.26 \n",
       "  1739.67,1013.55 1750.37,1011.94 1761.07,1010.43 1771.76,1009.03 1782.46,1007.75 1793.16,1006.58 1803.86,1005.54 1814.56,1004.63 1825.26,1003.85 \n",
       "  \"/>\n",
       "<path clip-path=\"url(#clip260)\" d=\"\n",
       "M1532.9 337.676 L1816.81 337.676 L1816.81 156.236 L1532.9 156.236  Z\n",
       "  \" fill=\"#ffffff\" fill-rule=\"evenodd\" fill-opacity=\"1\"/>\n",
       "<polyline clip-path=\"url(#clip260)\" style=\"stroke:#000000; stroke-width:4; stroke-opacity:1; fill:none\" points=\"\n",
       "  1532.9,337.676 1816.81,337.676 1816.81,156.236 1532.9,156.236 1532.9,337.676 \n",
       "  \"/>\n",
       "<polyline clip-path=\"url(#clip260)\" style=\"stroke:#ff0000; stroke-width:4; stroke-opacity:1; fill:none\" points=\"\n",
       "  1551.55,216.716 1663.44,216.716 \n",
       "  \"/>\n",
       "<path clip-path=\"url(#clip260)\" d=\"M 0 0 M1698.59 197.977 L1698.59 201.519 L1694.52 201.519 Q1692.22 201.519 1691.32 202.445 Q1690.44 203.371 1690.44 205.778 L1690.44 208.07 L1697.46 208.07 L1697.46 211.38 L1690.44 211.38 L1690.44 233.996 L1686.16 233.996 L1686.16 211.38 L1682.08 211.38 L1682.08 208.07 L1686.16 208.07 L1686.16 206.264 Q1686.16 201.936 1688.17 199.968 Q1690.19 197.977 1694.56 197.977 L1698.59 197.977 Z\" fill=\"#000000\" fill-rule=\"evenodd\" fill-opacity=\"1\" /><path clip-path=\"url(#clip260)\" d=\"M 0 0 M1724.61 218.348 L1724.61 233.996 L1720.35 233.996 L1720.35 218.487 Q1720.35 214.806 1718.91 212.977 Q1717.48 211.149 1714.61 211.149 Q1711.16 211.149 1709.17 213.348 Q1707.18 215.547 1707.18 219.343 L1707.18 233.996 L1702.89 233.996 L1702.89 208.07 L1707.18 208.07 L1707.18 212.098 Q1708.71 209.76 1710.77 208.602 Q1712.85 207.445 1715.56 207.445 Q1720.02 207.445 1722.32 210.223 Q1724.61 212.977 1724.61 218.348 Z\" fill=\"#000000\" fill-rule=\"evenodd\" fill-opacity=\"1\" /><path clip-path=\"url(#clip260)\" d=\"M 0 0 M1730.49 230.061 L1738.13 230.061 L1738.13 203.695 L1729.82 205.362 L1729.82 201.102 L1738.08 199.436 L1742.76 199.436 L1742.76 230.061 L1750.39 230.061 L1750.39 233.996 L1730.49 233.996 L1730.49 230.061 Z\" fill=\"#000000\" fill-rule=\"evenodd\" fill-opacity=\"1\" /><path clip-path=\"url(#clip260)\" d=\"M 0 0 M1765.09 198.024 Q1761.99 203.348 1760.49 208.556 Q1758.98 213.764 1758.98 219.112 Q1758.98 224.459 1760.49 229.713 Q1762.02 234.945 1765.09 240.246 L1761.39 240.246 Q1757.92 234.806 1756.18 229.551 Q1754.47 224.297 1754.47 219.112 Q1754.47 213.95 1756.18 208.718 Q1757.89 203.487 1761.39 198.024 L1765.09 198.024 Z\" fill=\"#000000\" fill-rule=\"evenodd\" fill-opacity=\"1\" /><path clip-path=\"url(#clip260)\" d=\"M 0 0 M1768.89 198.024 L1772.59 198.024 Q1776.07 203.487 1777.78 208.718 Q1779.51 213.95 1779.51 219.112 Q1779.51 224.297 1777.78 229.551 Q1776.07 234.806 1772.59 240.246 L1768.89 240.246 Q1771.97 234.945 1773.47 229.713 Q1775 224.459 1775 219.112 Q1775 213.764 1773.47 208.556 Q1771.97 203.348 1768.89 198.024 Z\" fill=\"#000000\" fill-rule=\"evenodd\" fill-opacity=\"1\" /><polyline clip-path=\"url(#clip260)\" style=\"stroke:#0000ff; stroke-width:4; stroke-opacity:1; fill:none\" stroke-dasharray=\"16, 10\" points=\"\n",
       "  1551.55,277.196 1663.44,277.196 \n",
       "  \"/>\n",
       "<path clip-path=\"url(#clip260)\" d=\"M 0 0 M1702.59 269.545 L1702.59 273.527 Q1700.79 272.531 1698.96 272.045 Q1697.15 271.536 1695.3 271.536 Q1691.16 271.536 1688.87 274.175 Q1686.58 276.791 1686.58 281.536 Q1686.58 286.281 1688.87 288.92 Q1691.16 291.536 1695.3 291.536 Q1697.15 291.536 1698.96 291.05 Q1700.79 290.541 1702.59 289.545 L1702.59 293.48 Q1700.81 294.314 1698.89 294.73 Q1696.99 295.147 1694.84 295.147 Q1688.98 295.147 1685.53 291.466 Q1682.08 287.786 1682.08 281.536 Q1682.08 275.193 1685.56 271.559 Q1689.05 267.925 1695.12 267.925 Q1697.08 267.925 1698.96 268.342 Q1700.83 268.735 1702.59 269.545 Z\" fill=\"#000000\" fill-rule=\"evenodd\" fill-opacity=\"1\" /><path clip-path=\"url(#clip260)\" d=\"M 0 0 M1717.11 271.536 Q1713.68 271.536 1711.69 274.221 Q1709.7 276.883 1709.7 281.536 Q1709.7 286.189 1711.67 288.874 Q1713.66 291.536 1717.11 291.536 Q1720.51 291.536 1722.5 288.851 Q1724.49 286.166 1724.49 281.536 Q1724.49 276.93 1722.5 274.244 Q1720.51 271.536 1717.11 271.536 M1717.11 267.925 Q1722.66 267.925 1725.83 271.536 Q1729.01 275.147 1729.01 281.536 Q1729.01 287.902 1725.83 291.536 Q1722.66 295.147 1717.11 295.147 Q1711.53 295.147 1708.36 291.536 Q1705.21 287.902 1705.21 281.536 Q1705.21 275.147 1708.36 271.536 Q1711.53 267.925 1717.11 267.925 Z\" fill=\"#000000\" fill-rule=\"evenodd\" fill-opacity=\"1\" /><path clip-path=\"url(#clip260)\" d=\"M 0 0 M1750 269.314 L1750 273.342 Q1748.2 272.416 1746.25 271.953 Q1744.31 271.49 1742.22 271.49 Q1739.05 271.49 1737.45 272.462 Q1735.88 273.434 1735.88 275.379 Q1735.88 276.86 1737.02 277.717 Q1738.15 278.55 1741.58 279.314 L1743.03 279.638 Q1747.57 280.61 1749.47 282.392 Q1751.39 284.152 1751.39 287.323 Q1751.39 290.934 1748.52 293.041 Q1745.67 295.147 1740.67 295.147 Q1738.59 295.147 1736.32 294.73 Q1734.08 294.337 1731.58 293.527 L1731.58 289.129 Q1733.94 290.355 1736.23 290.98 Q1738.52 291.582 1740.77 291.582 Q1743.77 291.582 1745.39 290.564 Q1747.02 289.522 1747.02 287.647 Q1747.02 285.911 1745.83 284.985 Q1744.68 284.059 1740.72 283.203 L1739.24 282.855 Q1735.28 282.022 1733.52 280.309 Q1731.76 278.573 1731.76 275.564 Q1731.76 271.906 1734.35 269.916 Q1736.95 267.925 1741.71 267.925 Q1744.08 267.925 1746.16 268.272 Q1748.24 268.619 1750 269.314 Z\" fill=\"#000000\" fill-rule=\"evenodd\" fill-opacity=\"1\" /></svg>\n"
      ]
     },
     "metadata": {},
     "output_type": "display_data"
    }
   ],
   "source": [
    "x = -3:6/99:6 \n",
    "\n",
    "p1 = plot( [x x],[fn1.(x) cos.(x)],\n",
    "           linecolor = [:red :blue],\n",
    "           linestyle = [:solid :dash],\n",
    "           linewidth = [2 1],\n",
    "           label = [\"fn1()\" \"cos\"],\n",
    "           title = \"My Results\",\n",
    "           xlabel = \"x\",\n",
    "           ylabel = \"my output value\" )\n",
    "display(p1)       #not needed in notebook, but useful in script"
   ]
  },
  {
   "cell_type": "markdown",
   "metadata": {},
   "source": [
    "# Types: Integers, Floats, Bools and Others\n",
    "\n",
    "Julia has many different types of variables: signed integers (like 2 or -5), floating point numbers (2.0 and -5.1), bools (false/true), bitarrays (similar to bools, but with more efficient use of memory), strings (\"hello\"), Dates (2017-04-23) and many more types."
   ]
  },
  {
   "cell_type": "markdown",
   "metadata": {},
   "source": [
    "## Integers and Floats"
   ]
  },
  {
   "cell_type": "code",
   "execution_count": 18,
   "metadata": {},
   "outputs": [
    {
     "name": "stdout",
     "output_type": "stream",
     "text": [
      "Finding the type of a, b, A and B:\n",
      "Int64 Float64 Vector{Int64} Vector{Float64}\n"
     ]
    }
   ],
   "source": [
    "a = 2                   #integer, Int (Int64 on most machines)\n",
    "b = 2.0                 #floating point, (Float64 on most machines)\n",
    "A = [1,2]\n",
    "B = [1.0,2.0]\n",
    "\n",
    "println(\"Finding the type of a, b, A and B:\")\n",
    "println(typeof(a),\" \",typeof(b),\" \",typeof(A),\" \",typeof(B))"
   ]
  },
  {
   "cell_type": "markdown",
   "metadata": {},
   "source": [
    "## Bools and BitArrays\n",
    "\n",
    "Bools are \"true\" or \"false\". BitArrays are (more memory efficient) versions of this."
   ]
  },
  {
   "cell_type": "code",
   "execution_count": 19,
   "metadata": {},
   "outputs": [
    {
     "name": "stdout",
     "output_type": "stream",
     "text": [
      "Finding the type of c and C:\n",
      "Bool BitVector\n"
     ]
    }
   ],
   "source": [
    "c = 2 > 1.1\n",
    "C = A .> 1.5        #A is an array, so C is too\n",
    "\n",
    "println(\"Finding the type of c and C:\")\n",
    "println(typeof(c),\" \",typeof(C))"
   ]
  },
  {
   "cell_type": "markdown",
   "metadata": {},
   "source": [
    "## Calculations with Mixed Types\n",
    "\n",
    "A calculation like \"integer\" + \"float\" works and the type of the result will be a float (the more flexible type). Similarly, \"bool\" + \"integer\" will give an integer. These promotion rules make it easy to have mixed types in calculations, and also provide a simple way of converting a variable from one type to another. (There are also an explicit convert() function that might be quicker.)"
   ]
  },
  {
   "cell_type": "code",
   "execution_count": 20,
   "metadata": {},
   "outputs": [
    {
     "name": "stdout",
     "output_type": "stream",
     "text": [
      "3.0\n",
      "3\n"
     ]
    }
   ],
   "source": [
    "println(1+2.0)                #integer + Float\n",
    "println((1>0) + 2)            #bool + integer"
   ]
  },
  {
   "cell_type": "code",
   "execution_count": null,
   "metadata": {},
   "outputs": [],
   "source": []
  }
 ],
 "metadata": {
  "@webio": {
   "lastCommId": null,
   "lastKernelId": null
  },
  "anaconda-cloud": {},
  "kernelspec": {
   "display_name": "Julia 1.6.0",
   "language": "julia",
   "name": "julia-1.6"
  },
  "language_info": {
   "file_extension": ".jl",
   "mimetype": "application/julia",
   "name": "julia",
   "version": "1.6.0"
  }
 },
 "nbformat": 4,
 "nbformat_minor": 1
}
